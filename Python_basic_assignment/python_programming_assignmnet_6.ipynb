{
 "cells": [
  {
   "cell_type": "markdown",
   "id": "f2038479",
   "metadata": {},
   "source": [
    "# Python Basic Programming Assignment 6"
   ]
  },
  {
   "cell_type": "markdown",
   "id": "c58a4fcb",
   "metadata": {},
   "source": [
    "Q1 - Write a Python Program to Display Fibonacci Sequence Using Recursion?"
   ]
  },
  {
   "cell_type": "code",
   "execution_count": 19,
   "id": "6b9950d5",
   "metadata": {},
   "outputs": [
    {
     "name": "stdout",
     "output_type": "stream",
     "text": [
      "Enter the range 5\n",
      "Fibonacci sequence:\n",
      "0,1,1,2,3,"
     ]
    }
   ],
   "source": [
    "num_range=int(input(\"Enter the range \"))\n",
    "def recur_fibo(n):\n",
    "   if n <= 1:\n",
    "       return n\n",
    "   else:\n",
    "       return(recur_fibo(n-1) + recur_fibo(n-2))\n",
    "\n",
    "if num_range <= 0:\n",
    "   print(\"Plese enter a positive integer\")\n",
    "else:\n",
    "   print(\"Fibonacci sequence:\")\n",
    "   for i in range(num_range):\n",
    "       print(recur_fibo(i),end=' ')\n",
    "\n"
   ]
  },
  {
   "cell_type": "markdown",
   "id": "b8dd317e",
   "metadata": {},
   "source": [
    "Q2. Write a Python Program to Find Factorial of Number Using Recursion?"
   ]
  },
  {
   "cell_type": "code",
   "execution_count": 9,
   "id": "0e5bdda4",
   "metadata": {},
   "outputs": [
    {
     "name": "stdout",
     "output_type": "stream",
     "text": [
      "Enter a number12\n",
      "479001600\n"
     ]
    }
   ],
   "source": [
    "no=int(input(\"Enter a number\"))\n",
    "def find_fact(no):\n",
    "    if no==0:\n",
    "        return 1\n",
    "    elif no>0:\n",
    "        return no*find_fact(no-1)\n",
    "print(find_fact(no))\n",
    "    "
   ]
  },
  {
   "cell_type": "markdown",
   "id": "580ba84b",
   "metadata": {},
   "source": [
    "Q3. Write a Python Program to calculate your Body Mass Index?"
   ]
  },
  {
   "cell_type": "code",
   "execution_count": 11,
   "id": "3dd2527d",
   "metadata": {},
   "outputs": [
    {
     "name": "stdout",
     "output_type": "stream",
     "text": [
      "Enter your space seperated weight(in kg) and Height(in meter) 75 2\n",
      "BMI Value is 18.75\n"
     ]
    }
   ],
   "source": [
    "weight, height=list(float(i) for i in input('Enter your space seperated weight(in kg) and Height(in meter) ').split(' '))\n",
    "bmi=weight/height**2\n",
    "print(f\"BMI Value is {bmi}\")"
   ]
  },
  {
   "cell_type": "markdown",
   "id": "c2ebdf8f",
   "metadata": {},
   "source": [
    "Q4. Write a Python Program to calculate the natural logarithm of any number?"
   ]
  },
  {
   "cell_type": "code",
   "execution_count": 14,
   "id": "29eef8d0",
   "metadata": {},
   "outputs": [
    {
     "name": "stdout",
     "output_type": "stream",
     "text": [
      "Enter the number: 5\n",
      "The value is: 1.6094379124341003\n"
     ]
    }
   ],
   "source": [
    "import math\n",
    "\n",
    "num = int(input(\"Enter the number: \"))\n",
    "\n",
    "log = math.log(num)\n",
    "\n",
    "print(\"The value is:\",log)"
   ]
  },
  {
   "cell_type": "markdown",
   "id": "428a4f64",
   "metadata": {},
   "source": [
    "Q5. Write a Python Program for cube sum of first n natural numbers?"
   ]
  },
  {
   "cell_type": "code",
   "execution_count": 17,
   "id": "b9d11761",
   "metadata": {},
   "outputs": [
    {
     "name": "stdout",
     "output_type": "stream",
     "text": [
      "Enter the range value 2\n",
      "cube sum of first n natural numbers is 9.0 \n"
     ]
    }
   ],
   "source": [
    "limit=int(input(\"Enter the range value \"))\n",
    "sum_=((limit**2)*(limit+1)**2)/4\n",
    "print(f\"cube sum of first n natural numbers is {sum_} \")"
   ]
  },
  {
   "cell_type": "code",
   "execution_count": 23,
   "id": "707f803c",
   "metadata": {},
   "outputs": [
    {
     "name": "stdout",
     "output_type": "stream",
     "text": [
      "0 1 2 3 4 "
     ]
    }
   ],
   "source": []
  },
  {
   "cell_type": "code",
   "execution_count": null,
   "id": "0de0a2de",
   "metadata": {},
   "outputs": [],
   "source": []
  }
 ],
 "metadata": {
  "kernelspec": {
   "display_name": "Python 3 (ipykernel)",
   "language": "python",
   "name": "python3"
  },
  "language_info": {
   "codemirror_mode": {
    "name": "ipython",
    "version": 3
   },
   "file_extension": ".py",
   "mimetype": "text/x-python",
   "name": "python",
   "nbconvert_exporter": "python",
   "pygments_lexer": "ipython3",
   "version": "3.9.13"
  }
 },
 "nbformat": 4,
 "nbformat_minor": 5
}
