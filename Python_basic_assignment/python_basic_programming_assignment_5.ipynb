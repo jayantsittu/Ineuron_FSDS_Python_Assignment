{
 "cells": [
  {
   "cell_type": "markdown",
   "id": "b53d9b5d",
   "metadata": {},
   "source": [
    "# Python Programming Basic Assignment 5"
   ]
  },
  {
   "cell_type": "markdown",
   "id": "9c36165e",
   "metadata": {},
   "source": [
    "Q1 . Write a Python Program to Find LCM?"
   ]
  },
  {
   "cell_type": "code",
   "execution_count": 28,
   "id": "09e1b0d8",
   "metadata": {},
   "outputs": [
    {
     "name": "stdout",
     "output_type": "stream",
     "text": [
      "Enter the number1 16\n",
      "Enter the number2 24\n",
      "LCM of the two numbers 16 and 24 is - 48\n"
     ]
    }
   ],
   "source": [
    "num1=int(input(\"Enter the number1 \"))\n",
    "num2=int(input(\"Enter the number2 \"))\n",
    "if num1>num2:\n",
    "    highest_number=num1\n",
    "    lowest_number=num2\n",
    "else:\n",
    "    highest_number=num2\n",
    "    lowest_number=num1\n",
    "num1_lst=list()\n",
    "num2_lst=list()\n",
    "flag=False\n",
    "for no in range(2,num1*num2):\n",
    "    num1_lst.append(no*num1)\n",
    "    num2_lst.append(no*num2)\n",
    "    for i in num1_lst:\n",
    "        if i in num2_lst:\n",
    "            flag=True\n",
    "            print(f\"LCM of the two numbers {num1} and {num2} is - {i}\")\n",
    "        if flag==True:\n",
    "            break\n",
    "    if flag==True:\n",
    "        break\n",
    "        \n",
    "    \n",
    "        \n"
   ]
  },
  {
   "cell_type": "markdown",
   "id": "8668a925",
   "metadata": {},
   "source": [
    "Q2 Write a Python Program to Find HCF?"
   ]
  },
  {
   "cell_type": "code",
   "execution_count": 36,
   "id": "c33f5b18",
   "metadata": {},
   "outputs": [
    {
     "name": "stdout",
     "output_type": "stream",
     "text": [
      "Enter the number1 7450\n",
      "Enter the number2 56590\n",
      "Hucf of two numbers 7450 and 56590 is 10\n"
     ]
    }
   ],
   "source": [
    "num1=int(input(\"Enter the number1 \"))\n",
    "num2=int(input(\"Enter the number2 \"))\n",
    "num1_lst=list()\n",
    "num2_lst=list()\n",
    "flag=False\n",
    "for no in range(2,num1):\n",
    "    if num1%no==0 and num2%no==0:\n",
    "        num1_lst.append(no)\n",
    "        num2_lst.append(no)\n",
    "num1_lst.sort(reverse=True)\n",
    "num2_lst.sort(reverse=True)\n",
    "for i in num1_lst:\n",
    "    if i in num2_lst:\n",
    "        flag=True\n",
    "    if flag==True:\n",
    "        break\n",
    "if flag==True:\n",
    "    print(f\"Hcf of two numbers {num1} and {num2} is {i}\")\n",
    "    \n",
    "else:\n",
    "    print(f\"Hcf of two numbers {num1} and {num2} is 1.\")\n",
    "    "
   ]
  },
  {
   "cell_type": "markdown",
   "id": "5815e855",
   "metadata": {},
   "source": [
    "# Q3. Write a Python Program to Convert Decimal to Binary, Octal and Hexadecimal?"
   ]
  },
  {
   "cell_type": "code",
   "execution_count": 45,
   "id": "dee42b70",
   "metadata": {},
   "outputs": [
    {
     "name": "stdout",
     "output_type": "stream",
     "text": [
      "Enter a decimal number. 514620\n",
      "Binary equivalent of decimal number1 is - 1 1 1 1 1 0 1 1 0 1 0 0 0 1 1 1 1 0 0\n"
     ]
    }
   ],
   "source": [
    "num=int(input(\"Enter a decimal number. \"))\n",
    "binary_lst=list()\n",
    "\n",
    "for no in range(1,num+1):\n",
    "    quotient=num%2\n",
    "    binary_lst.append(quotient)\n",
    "    if num==1:\n",
    "        break\n",
    "    num=num//2\n",
    "binary_lst=binary_lst[::-1]\n",
    "print(\"Binary equivalent of decimal number\" +str(num) +\" is -\",*binary_lst)\n",
    "    \n",
    "    \n",
    "    "
   ]
  },
  {
   "cell_type": "markdown",
   "id": "e1a8584c",
   "metadata": {},
   "source": [
    "Q4. Write a Python Program To Find ASCII value of a character?"
   ]
  },
  {
   "cell_type": "code",
   "execution_count": 49,
   "id": "423de65a",
   "metadata": {},
   "outputs": [
    {
     "name": "stdout",
     "output_type": "stream",
     "text": [
      "Enter a character a\n",
      "ASCII of a character is 97\n"
     ]
    }
   ],
   "source": [
    "char=input(\"Enter a character \")\n",
    "print(f\"ASCII of a character is {ord(char)}\")"
   ]
  },
  {
   "cell_type": "markdown",
   "id": "91780755",
   "metadata": {},
   "source": [
    "Q5 Write a Python Program to Make a Simple Calculator with 4 basic mathematical operations?"
   ]
  },
  {
   "cell_type": "code",
   "execution_count": 19,
   "id": "8c343dee",
   "metadata": {},
   "outputs": [
    {
     "name": "stdout",
     "output_type": "stream",
     "text": [
      "Please Enter any of four operations- Addition, Subtraction, Divison and Multiplication  divison\n",
      "Please Enter all the space seperated number 20 4\n",
      "Division of numbers are - 5.0\n"
     ]
    }
   ],
   "source": [
    "ops=input(\"Please Enter any of four operations- Addition, Subtraction, Divison and Multiplication  \").lower()\n",
    "if ops not in ['addition', 'subtraction', 'divison', 'multiplication']:\n",
    "    raise Exception(\"Kindly enter a valid operation name as mentioned in the input statement.\")   \n",
    "num_list=[int(i) for i in input(\"Please Enter all the space seperated number \").split(' ')]\n",
    "if len(num_list)<2:\n",
    "    raise Exception(\"Kindly enter atleast two numbers to perform arithmetical operation.\")\n",
    "def do_sum(num_list):\n",
    "    return sum(num_list)\n",
    "def do_subtract(num_list):\n",
    "    sub=num_list[0]-num_list[1]\n",
    "    if len(num_list)>2:\n",
    "        \n",
    "        for no in num_list[2:]:\n",
    "            sub=sub-(no)\n",
    "    return sub\n",
    "def do_mult(num_list):\n",
    "    mult=1\n",
    "    for i in num_list:\n",
    "        mult*=i\n",
    "    return mult\n",
    "def do_divison(num_list):\n",
    "    div=1\n",
    "    if num_list[1]!=0:\n",
    "        div=num_list[0]/num_list[1]\n",
    "        for i in num_list[2:]:\n",
    "            if i !=0:\n",
    "                div=div/i\n",
    "    return div\n",
    "if ops=='addition':\n",
    "    print(\"Sum of numbers are -\",do_sum(num_list))\n",
    "elif ops=='subtraction':\n",
    "    print(\"Subtraction of numbers are -\",do_subtract(num_list))\n",
    "elif ops=='divison':\n",
    "    print(\"Division of numbers are -\",do_divison(num_list))\n",
    "elif ops=='multiplication':\n",
    "    print(\"Multiplication of numbers are -\",do_mult(num_list))\n",
    "        \n",
    "\n",
    "        \n",
    "    "
   ]
  },
  {
   "cell_type": "code",
   "execution_count": 20,
   "id": "4cfb7dcf",
   "metadata": {},
   "outputs": [],
   "source": []
  },
  {
   "cell_type": "code",
   "execution_count": null,
   "id": "5413c047",
   "metadata": {},
   "outputs": [],
   "source": []
  }
 ],
 "metadata": {
  "kernelspec": {
   "display_name": "Python 3 (ipykernel)",
   "language": "python",
   "name": "python3"
  },
  "language_info": {
   "codemirror_mode": {
    "name": "ipython",
    "version": 3
   },
   "file_extension": ".py",
   "mimetype": "text/x-python",
   "name": "python",
   "nbconvert_exporter": "python",
   "pygments_lexer": "ipython3",
   "version": "3.9.13"
  }
 },
 "nbformat": 4,
 "nbformat_minor": 5
}
