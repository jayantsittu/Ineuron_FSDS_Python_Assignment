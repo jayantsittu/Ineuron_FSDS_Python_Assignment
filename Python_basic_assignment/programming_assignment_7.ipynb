{
 "cells": [
  {
   "cell_type": "markdown",
   "id": "12cfc580",
   "metadata": {},
   "source": [
    "# Python Prgramming Assignment 7"
   ]
  },
  {
   "cell_type": "markdown",
   "id": "d4ee9e83",
   "metadata": {},
   "source": [
    "1. Write a Python Program to find sum of array?"
   ]
  },
  {
   "cell_type": "code",
   "execution_count": 1,
   "id": "d84325ed",
   "metadata": {},
   "outputs": [
    {
     "name": "stdout",
     "output_type": "stream",
     "text": [
      "Enter comma seperated array values - 87 74 56\n",
      "sum of a array is - 217\n"
     ]
    }
   ],
   "source": [
    "import array as arr\n",
    "arr1 = arr.array('i',[int(i) for i in input(\"Enter space seperated array values - \").split()])\n",
    "sum_ = sum(arr1)\n",
    "print(f\"sum of a array is - {sum_}\")"
   ]
  },
  {
   "cell_type": "markdown",
   "id": "55e2bac4",
   "metadata": {},
   "source": [
    "2. Write a Python Program to find largest element in an array?"
   ]
  },
  {
   "cell_type": "code",
   "execution_count": 2,
   "id": "6072f8a5",
   "metadata": {},
   "outputs": [
    {
     "name": "stdout",
     "output_type": "stream",
     "text": [
      "Enter comma seperated array values - 85 43 990004\n",
      "largest element in array is 990004\n"
     ]
    }
   ],
   "source": [
    "import array as arr\n",
    "arr1 = arr.array('i',[int(i) for i in input(\"Enter space seperated array values - \").split()])\n",
    "max_ = max(arr1)\n",
    "print(f\"largest element in array is {max_}\")"
   ]
  },
  {
   "cell_type": "markdown",
   "id": "1dde2e8b",
   "metadata": {},
   "source": [
    "3. Write a Python Program for array rotation?"
   ]
  },
  {
   "cell_type": "code",
   "execution_count": 3,
   "id": "45378201",
   "metadata": {},
   "outputs": [
    {
     "name": "stdout",
     "output_type": "stream",
     "text": [
      "Enter comma seperated array values - 78 45 67 89\n",
      "Reversed array is -array('i', [89, 67, 45, 78])\n"
     ]
    }
   ],
   "source": [
    "# Using slicing\n",
    "import array as arr\n",
    "arr1 = arr.array('i',[int(i) for i in input(\"Enter space seperated array values - \").split()])\n",
    "print(f\"Reversed array is -{arr1[::-1]}\")"
   ]
  },
  {
   "cell_type": "code",
   "execution_count": 4,
   "id": "b635ff23",
   "metadata": {},
   "outputs": [
    {
     "name": "stdout",
     "output_type": "stream",
     "text": [
      "Reversed array is - array('i', [89, 67, 45, 78]) \n"
     ]
    }
   ],
   "source": [
    "# Using 2nd array\n",
    "arr2 = arr.array('i')\n",
    "for i in range(len(arr1)-1,-1,-1):\n",
    "    arr2.append(arr1[i])\n",
    "print(f\"Reversed array is - {arr2} \")\n",
    "    "
   ]
  },
  {
   "cell_type": "markdown",
   "id": "1abfceb1",
   "metadata": {},
   "source": [
    "4. Write a Python Program to Split the array and add the first part to the end?"
   ]
  },
  {
   "cell_type": "code",
   "execution_count": 6,
   "id": "12108e3c",
   "metadata": {},
   "outputs": [
    {
     "name": "stdout",
     "output_type": "stream",
     "text": [
      "Enter space seperated array values - 54 78 96 45 2031\n",
      "Enter the index number from where you want to split the index - 3\n"
     ]
    },
    {
     "data": {
      "text/plain": [
       "array('i', [45, 2031, 54, 78, 96])"
      ]
     },
     "execution_count": 6,
     "metadata": {},
     "output_type": "execute_result"
    }
   ],
   "source": [
    "arr1 = arr.array('i',[int(i) for i in input(\"Enter space seperated array values - \").split()])\n",
    "split_index = int(input(\"Enter the index number from where you want to split the index - \"))\n",
    "def split_array(array, split_index):\n",
    "    if split_index<=len(array):\n",
    "        first_part = array[:split_index]\n",
    "        return array[split_index:]+first_part\n",
    "\n",
    "    else:\n",
    "        raise Exception(\"Split index should not be greater than the legth of array\")\n",
    "split_array(arr1,split_index)"
   ]
  },
  {
   "cell_type": "markdown",
   "id": "9fce02c0",
   "metadata": {},
   "source": [
    "5. Write a Python Program to check if given array is Monotonic?"
   ]
  },
  {
   "cell_type": "code",
   "execution_count": 7,
   "id": "3f9b4c72",
   "metadata": {},
   "outputs": [
    {
     "name": "stdout",
     "output_type": "stream",
     "text": [
      "Enter comma seperated array values - 45 78 963 125\n"
     ]
    },
    {
     "data": {
      "text/plain": [
       "'Given array is not monotonic array'"
      ]
     },
     "execution_count": 7,
     "metadata": {},
     "output_type": "execute_result"
    }
   ],
   "source": [
    "array = arr.array(\"i\", [int(i) for i in input(\"Enter comma seperated array values - \").split()])\n",
    "def is_monotonic(array):\n",
    "    if all((array[ind]<array[ind+1]) for ind in range(len(array)-1)) or all((array[ind]>array[ind+1]) for ind in range(len(array)-1)):\n",
    "        return \"Given array is monotonic\"\n",
    "    else:\n",
    "        return \"Given array is not monotonic array\"\n",
    "is_monotonic(array)"
   ]
  },
  {
   "cell_type": "code",
   "execution_count": null,
   "id": "7ba4f06c",
   "metadata": {},
   "outputs": [],
   "source": []
  }
 ],
 "metadata": {
  "kernelspec": {
   "display_name": "Python 3 (ipykernel)",
   "language": "python",
   "name": "python3"
  },
  "language_info": {
   "codemirror_mode": {
    "name": "ipython",
    "version": 3
   },
   "file_extension": ".py",
   "mimetype": "text/x-python",
   "name": "python",
   "nbconvert_exporter": "python",
   "pygments_lexer": "ipython3",
   "version": "3.9.13"
  }
 },
 "nbformat": 4,
 "nbformat_minor": 5
}
