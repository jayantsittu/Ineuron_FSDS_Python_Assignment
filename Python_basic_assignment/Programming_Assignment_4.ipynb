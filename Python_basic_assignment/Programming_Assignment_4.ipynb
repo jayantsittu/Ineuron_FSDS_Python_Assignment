{
 "cells": [
  {
   "cell_type": "markdown",
   "id": "0c3cf422",
   "metadata": {},
   "source": [
    "# Python Basic Programming Assignment 4"
   ]
  },
  {
   "cell_type": "markdown",
   "id": "5e33b59b",
   "metadata": {},
   "source": [
    "# Write a Python Program to Find the Factorial of a Number?"
   ]
  },
  {
   "cell_type": "code",
   "execution_count": 13,
   "id": "ca70353d",
   "metadata": {},
   "outputs": [
    {
     "name": "stdout",
     "output_type": "stream",
     "text": [
      "Enter a number. 5\n",
      "120\n"
     ]
    }
   ],
   "source": [
    "num=int(input(\"Enter a number. \"))\n",
    "fact=1\n",
    "for no in range(1,num+1):\n",
    "    fact*=no    \n",
    "print(fact)\n",
    "if num==0:\n",
    "    print(fact)"
   ]
  },
  {
   "cell_type": "code",
   "execution_count": 12,
   "id": "5cdfe9dd",
   "metadata": {},
   "outputs": [
    {
     "name": "stdout",
     "output_type": "stream",
     "text": [
      "Enter  number.5\n"
     ]
    },
    {
     "data": {
      "text/plain": [
       "120"
      ]
     },
     "execution_count": 12,
     "metadata": {},
     "output_type": "execute_result"
    }
   ],
   "source": [
    "# using lambda function\n",
    "num=int(input('Enter  number.'))\n",
    "fact= lambda x:x and x*fact(x-1) or 1\n",
    "fact(num)"
   ]
  },
  {
   "cell_type": "markdown",
   "id": "eda0eda0",
   "metadata": {},
   "source": [
    "# Write a Python Program to Display the multiplication Table?"
   ]
  },
  {
   "cell_type": "code",
   "execution_count": 18,
   "id": "2a3b3d02",
   "metadata": {},
   "outputs": [
    {
     "name": "stdout",
     "output_type": "stream",
     "text": [
      "Enter a number 12\n",
      "Table of 12 is -\n",
      "12\n",
      "24\n",
      "36\n",
      "48\n",
      "60\n",
      "72\n",
      "84\n",
      "96\n",
      "108\n",
      "120\n"
     ]
    }
   ],
   "source": [
    "num=int(input('Enter a number '))\n",
    "print(f\"Table of {num} is -\")\n",
    "for tables in range(1,11):\n",
    "    print(num*tables) \n"
   ]
  },
  {
   "cell_type": "markdown",
   "id": "6e1df42f",
   "metadata": {},
   "source": [
    "# Write a Python Program to Print the Fibonacci sequence?"
   ]
  },
  {
   "cell_type": "code",
   "execution_count": 8,
   "id": "d11a8a28",
   "metadata": {},
   "outputs": [
    {
     "name": "stdout",
     "output_type": "stream",
     "text": [
      "Enter the number till that you want fibonacci series : 20\n",
      "0,1,1,2,3,5,8,13,21,34,55,89,144,233,377,610,987,1597,2584,4181,6765\n"
     ]
    }
   ],
   "source": [
    "num=int(input('Enter the number till that you want fibonacci series : '))\n",
    "fib_list=list()\n",
    "for number in range(0,num+1):\n",
    "    if number==0:\n",
    "        #print(number,end=',')\n",
    "        fib_list.append(0)\n",
    "    elif number ==1:\n",
    "        fib_list.append(1)\n",
    "    else:\n",
    "        fib_list.append(fib_list[number-1]+fib_list[number-2])\n",
    "print(*fib_list,sep=',')\n",
    "    "
   ]
  },
  {
   "cell_type": "markdown",
   "id": "ae2ee593",
   "metadata": {},
   "source": [
    "# Write a Python Program to Check Armstrong Number?"
   ]
  },
  {
   "cell_type": "code",
   "execution_count": 18,
   "id": "1379a051",
   "metadata": {},
   "outputs": [
    {
     "name": "stdout",
     "output_type": "stream",
     "text": [
      "Enter a number : 370\n",
      "Number 370 is an Armstrong number\n"
     ]
    }
   ],
   "source": [
    "num=int(input('Enter a number : '))\n",
    "num_lst=[int(i)**3 for i in num]\n",
    "no_sum=sum(num_lst)\n",
    "if no_sum==num:\n",
    "    print(f\"Number {num} is an Armstrong number\")\n",
    "else:\n",
    "    print(f\"Given number {num} is not an Armstrong number\")"
   ]
  },
  {
   "cell_type": "markdown",
   "id": "cb0a34c1",
   "metadata": {},
   "source": [
    "# Write a Python Program to Find Armstrong Number in an Interval?"
   ]
  },
  {
   "cell_type": "code",
   "execution_count": 24,
   "id": "4c6f6ccf",
   "metadata": {},
   "outputs": [
    {
     "name": "stdout",
     "output_type": "stream",
     "text": [
      "Enter the range value : 500\n",
      "1,153,370,371,407,"
     ]
    }
   ],
   "source": [
    "range_limit=int(input(\"Enter the range value : \"))\n",
    "for number in range(1,range_limit+1):\n",
    "    num_lst=[int(i)**3 for i in str(number)]\n",
    "    num_sum=sum(num_lst)\n",
    "    if num_sum==number:\n",
    "        print(number,end=',')\n",
    "\n",
    "    \n",
    "    \n",
    "    \n"
   ]
  },
  {
   "cell_type": "markdown",
   "id": "10566db8",
   "metadata": {},
   "source": [
    "# Write a Python Program to Find the Sum of Natural Numbers?"
   ]
  },
  {
   "cell_type": "code",
   "execution_count": 30,
   "id": "188018c0",
   "metadata": {},
   "outputs": [
    {
     "name": "stdout",
     "output_type": "stream",
     "text": [
      "Enter the range value : 100\n",
      "5050\n"
     ]
    }
   ],
   "source": [
    "range_limit=int(input(\"Enter the range value : \"))\n",
    "sum_natural_no=range_limit*(range_limit+1)//2\n",
    "print(sum_natural_no)"
   ]
  },
  {
   "cell_type": "code",
   "execution_count": null,
   "id": "c8eae83a",
   "metadata": {},
   "outputs": [],
   "source": []
  }
 ],
 "metadata": {
  "kernelspec": {
   "display_name": "Python 3 (ipykernel)",
   "language": "python",
   "name": "python3"
  },
  "language_info": {
   "codemirror_mode": {
    "name": "ipython",
    "version": 3
   },
   "file_extension": ".py",
   "mimetype": "text/x-python",
   "name": "python",
   "nbconvert_exporter": "python",
   "pygments_lexer": "ipython3",
   "version": "3.9.13"
  }
 },
 "nbformat": 4,
 "nbformat_minor": 5
}
